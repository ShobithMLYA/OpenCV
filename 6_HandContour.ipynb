{
  "nbformat": 4,
  "nbformat_minor": 0,
  "metadata": {
    "colab": {
      "name": "HandContour",
      "provenance": [],
      "collapsed_sections": []
    },
    "kernelspec": {
      "name": "Python 3.8.5 64-bit",
      "display_name": "Python 3.8.5 64-bit",
      "metadata": {
        "interpreter": {
          "hash": "38740d3277777e2cd7c6c2cc9d8addf5118fdf3f82b1b39231fd12aeac8aee8b"
        }
      }
    }
  },
  "cells": [
    {
      "cell_type": "code",
      "metadata": {
        "id": "ZjXuqN7KfCCK",
        "colab_type": "code",
        "colab": {}
      },
      "source": [
        "import cv2\n",
        "import numpy as np\n",
        "import matplotlib.pyplot as plt"
      ],
      "execution_count": 9,
      "outputs": []
    },
    {
      "cell_type": "code",
      "metadata": {
        "id": "68LH0XyFfbuI",
        "colab_type": "code",
        "colab": {
          "base_uri": "https://localhost:8080/",
          "height": 834
        },
        "outputId": "a521915f-d349-48d8-b01d-b84ff6019b0d",
        "tags": []
      },
      "source": [
        "hand_image = cv2.imread(\"assets//Hand.jpg\", 0)\n",
        "hand_image = cv2.resize(hand_image, (400,400))\n"
      ],
      "execution_count": 10,
      "outputs": []
    },
    {
      "cell_type": "code",
      "execution_count": 11,
      "metadata": {
        "tags": []
      },
      "outputs": [
        {
          "output_type": "stream",
          "name": "stdout",
          "text": "I found 5 curves in the image\n"
        },
        {
          "output_type": "execute_result",
          "data": {
            "text/plain": "array([[232, 232, 232, ..., 213, 213, 213],\n       [232, 232, 232, ..., 213, 213, 213],\n       [232, 232, 232, ..., 213, 213, 213],\n       ...,\n       [237, 237, 237, ..., 230, 230, 230],\n       [237, 237, 237, ..., 230, 230, 230],\n       [237, 237, 237, ..., 229, 230, 230]], dtype=uint8)"
          },
          "metadata": {},
          "execution_count": 11
        }
      ],
      "source": [
        "blur_hand = cv2.GaussianBlur(hand_image, (5,5), 0)\n",
        "edge_hand = cv2.Canny(blur_hand, 50, 200)\n",
        "\n",
        "cnts, hierachy=cv2.findContours(edge_hand.copy(), cv2.RETR_EXTERNAL, cv2.CHAIN_APPROX_SIMPLE)\n",
        "print(\"I found {} curves in the image\".format(len(cnts)))\n",
        "hand_copy = hand_image.copy()\n",
        "cv2.drawContours(hand_copy, cnts, -1, (0,0,255), 2)"
      ]
    },
    {
      "cell_type": "code",
      "execution_count": 12,
      "metadata": {},
      "outputs": [],
      "source": [
        "cv2.imshow('hand', hand_image)\n",
        "cv2.imshow('hand copy',hand_copy)\n",
        "cv2.waitKey(0)\n",
        "cv2.destroyAllWindows()"
      ]
    }
  ]
}